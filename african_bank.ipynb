{
 "cells": [
  {
   "cell_type": "code",
   "execution_count": 4,
   "metadata": {
    "collapsed": true
   },
   "outputs": [],
   "source": [
    "import dask.dataframe as dd\n",
    "from dask import compute\n",
    "\n",
    "#declaro barra de progreso\n",
    "from dask.diagnostics import ProgressBar\n",
    "ProgressBar().register()"
   ]
  },
  {
   "cell_type": "code",
   "execution_count": 5,
   "metadata": {
    "collapsed": true
   },
   "outputs": [],
   "source": [
    "#leo los datos\n",
    "df = dd.read_csv('/data/dataset_bancoAfricano.csv')"
   ]
  },
  {
   "cell_type": "code",
   "execution_count": 6,
   "metadata": {},
   "outputs": [
    {
     "name": "stdout",
     "output_type": "stream",
     "text": [
      "[########################################] | 100% Completed | 15.7s\n"
     ]
    }
   ],
   "source": [
    "#Para sacar una muestra de datos\n",
    "df1=df.sample(frac=0.00001, replace=True).compute()\n"
   ]
  },
  {
   "cell_type": "code",
   "execution_count": 17,
   "metadata": {},
   "outputs": [
    {
     "data": {
      "text/plain": [
       "11"
      ]
     },
     "execution_count": 17,
     "metadata": {},
     "output_type": "execute_result"
    }
   ],
   "source": [
    "#OVERVIEW\n",
    "#DATASET INFO\n",
    "#Number of variables\n",
    "df.columns.value_counts().count()"
   ]
  },
  {
   "cell_type": "code",
   "execution_count": 22,
   "metadata": {},
   "outputs": [
    {
     "data": {
      "text/plain": [
       "nameOrig          1\n",
       "isFraud           1\n",
       "oldbalanceDest    1\n",
       "amount            1\n",
       "type              1\n",
       "step              1\n",
       "newbalanceDest    1\n",
       "isFlaggedFraud    1\n",
       "oldbalanceOrg     1\n",
       "nameDest          1\n",
       "newbalanceOrig    1\n",
       "dtype: int64"
      ]
     },
     "execution_count": 22,
     "metadata": {},
     "output_type": "execute_result"
    }
   ],
   "source": [
    "#listado de columnas\n",
    "df.columns.value_counts()"
   ]
  },
  {
   "cell_type": "code",
   "execution_count": 3,
   "metadata": {},
   "outputs": [
    {
     "name": "stdout",
     "output_type": "stream",
     "text": [
      "[########################################] | 100% Completed | 14.3s\n"
     ]
    },
    {
     "data": {
      "text/plain": [
       "6362620"
      ]
     },
     "execution_count": 3,
     "metadata": {},
     "output_type": "execute_result"
    }
   ],
   "source": [
    "#Number of observations\n",
    "len(df)"
   ]
  },
  {
   "cell_type": "code",
   "execution_count": 40,
   "metadata": {
    "collapsed": true
   },
   "outputs": [],
   "source": [
    "#Total Missing (%)\n",
    "Valores_null=df.isnull()\n",
    "Valores_null=True\n",
    "\n",
    "#Total size in memory\n",
    "\n",
    "\n",
    "#Average record size in memory"
   ]
  },
  {
   "cell_type": "code",
   "execution_count": 41,
   "metadata": {},
   "outputs": [
    {
     "data": {
      "text/plain": [
       "float64    5\n",
       "object     3\n",
       "int64      3\n",
       "dtype: int64"
      ]
     },
     "execution_count": 41,
     "metadata": {},
     "output_type": "execute_result"
    }
   ],
   "source": [
    "#VARIABLE TYPES\n",
    "df.dtypes.value_counts()"
   ]
  },
  {
   "cell_type": "code",
   "execution_count": 15,
   "metadata": {},
   "outputs": [
    {
     "name": "stdout",
     "output_type": "stream",
     "text": [
      "[########################################] | 100% Completed | 19.2s\n"
     ]
    },
    {
     "data": {
      "text/html": [
       "<div>\n",
       "<style>\n",
       "    .dataframe thead tr:only-child th {\n",
       "        text-align: right;\n",
       "    }\n",
       "\n",
       "    .dataframe thead th {\n",
       "        text-align: left;\n",
       "    }\n",
       "\n",
       "    .dataframe tbody tr th {\n",
       "        vertical-align: top;\n",
       "    }\n",
       "</style>\n",
       "<table border=\"1\" class=\"dataframe\">\n",
       "  <thead>\n",
       "    <tr style=\"text-align: right;\">\n",
       "      <th></th>\n",
       "      <th>step</th>\n",
       "      <th>amount</th>\n",
       "      <th>oldbalanceOrg</th>\n",
       "      <th>newbalanceOrig</th>\n",
       "      <th>oldbalanceDest</th>\n",
       "      <th>newbalanceDest</th>\n",
       "      <th>isFraud</th>\n",
       "      <th>isFlaggedFraud</th>\n",
       "    </tr>\n",
       "  </thead>\n",
       "  <tbody>\n",
       "    <tr>\n",
       "      <th>count</th>\n",
       "      <td>6.362620e+06</td>\n",
       "      <td>6.362620e+06</td>\n",
       "      <td>6.362620e+06</td>\n",
       "      <td>6.362620e+06</td>\n",
       "      <td>6.362620e+06</td>\n",
       "      <td>6.362620e+06</td>\n",
       "      <td>6.362620e+06</td>\n",
       "      <td>6.362620e+06</td>\n",
       "    </tr>\n",
       "    <tr>\n",
       "      <th>mean</th>\n",
       "      <td>2.433972e+02</td>\n",
       "      <td>1.798619e+05</td>\n",
       "      <td>8.338831e+05</td>\n",
       "      <td>8.551137e+05</td>\n",
       "      <td>1.100702e+06</td>\n",
       "      <td>1.224996e+06</td>\n",
       "      <td>1.290820e-03</td>\n",
       "      <td>2.514687e-06</td>\n",
       "    </tr>\n",
       "    <tr>\n",
       "      <th>std</th>\n",
       "      <td>1.423320e+02</td>\n",
       "      <td>6.038582e+05</td>\n",
       "      <td>2.888243e+06</td>\n",
       "      <td>2.924049e+06</td>\n",
       "      <td>3.399180e+06</td>\n",
       "      <td>3.674129e+06</td>\n",
       "      <td>3.590480e-02</td>\n",
       "      <td>1.585775e-03</td>\n",
       "    </tr>\n",
       "    <tr>\n",
       "      <th>min</th>\n",
       "      <td>1.000000e+00</td>\n",
       "      <td>0.000000e+00</td>\n",
       "      <td>0.000000e+00</td>\n",
       "      <td>0.000000e+00</td>\n",
       "      <td>0.000000e+00</td>\n",
       "      <td>0.000000e+00</td>\n",
       "      <td>0.000000e+00</td>\n",
       "      <td>0.000000e+00</td>\n",
       "    </tr>\n",
       "    <tr>\n",
       "      <th>25%</th>\n",
       "      <td>1.640000e+02</td>\n",
       "      <td>1.722189e+04</td>\n",
       "      <td>0.000000e+00</td>\n",
       "      <td>0.000000e+00</td>\n",
       "      <td>0.000000e+00</td>\n",
       "      <td>0.000000e+00</td>\n",
       "      <td>0.000000e+00</td>\n",
       "      <td>0.000000e+00</td>\n",
       "    </tr>\n",
       "    <tr>\n",
       "      <th>50%</th>\n",
       "      <td>2.850000e+02</td>\n",
       "      <td>8.029965e+04</td>\n",
       "      <td>1.634135e+04</td>\n",
       "      <td>0.000000e+00</td>\n",
       "      <td>1.457132e+05</td>\n",
       "      <td>2.279984e+05</td>\n",
       "      <td>0.000000e+00</td>\n",
       "      <td>0.000000e+00</td>\n",
       "    </tr>\n",
       "    <tr>\n",
       "      <th>75%</th>\n",
       "      <td>5.890000e+02</td>\n",
       "      <td>2.210163e+05</td>\n",
       "      <td>1.473760e+05</td>\n",
       "      <td>1.888077e+05</td>\n",
       "      <td>9.858219e+05</td>\n",
       "      <td>1.178652e+06</td>\n",
       "      <td>0.000000e+00</td>\n",
       "      <td>0.000000e+00</td>\n",
       "    </tr>\n",
       "    <tr>\n",
       "      <th>max</th>\n",
       "      <td>7.430000e+02</td>\n",
       "      <td>9.244552e+07</td>\n",
       "      <td>5.958504e+07</td>\n",
       "      <td>4.958504e+07</td>\n",
       "      <td>3.560159e+08</td>\n",
       "      <td>3.561793e+08</td>\n",
       "      <td>1.000000e+00</td>\n",
       "      <td>1.000000e+00</td>\n",
       "    </tr>\n",
       "  </tbody>\n",
       "</table>\n",
       "</div>"
      ],
      "text/plain": [
       "               step        amount  oldbalanceOrg  newbalanceOrig  \\\n",
       "count  6.362620e+06  6.362620e+06   6.362620e+06    6.362620e+06   \n",
       "mean   2.433972e+02  1.798619e+05   8.338831e+05    8.551137e+05   \n",
       "std    1.423320e+02  6.038582e+05   2.888243e+06    2.924049e+06   \n",
       "min    1.000000e+00  0.000000e+00   0.000000e+00    0.000000e+00   \n",
       "25%    1.640000e+02  1.722189e+04   0.000000e+00    0.000000e+00   \n",
       "50%    2.850000e+02  8.029965e+04   1.634135e+04    0.000000e+00   \n",
       "75%    5.890000e+02  2.210163e+05   1.473760e+05    1.888077e+05   \n",
       "max    7.430000e+02  9.244552e+07   5.958504e+07    4.958504e+07   \n",
       "\n",
       "       oldbalanceDest  newbalanceDest       isFraud  isFlaggedFraud  \n",
       "count    6.362620e+06    6.362620e+06  6.362620e+06    6.362620e+06  \n",
       "mean     1.100702e+06    1.224996e+06  1.290820e-03    2.514687e-06  \n",
       "std      3.399180e+06    3.674129e+06  3.590480e-02    1.585775e-03  \n",
       "min      0.000000e+00    0.000000e+00  0.000000e+00    0.000000e+00  \n",
       "25%      0.000000e+00    0.000000e+00  0.000000e+00    0.000000e+00  \n",
       "50%      1.457132e+05    2.279984e+05  0.000000e+00    0.000000e+00  \n",
       "75%      9.858219e+05    1.178652e+06  0.000000e+00    0.000000e+00  \n",
       "max      3.560159e+08    3.561793e+08  1.000000e+00    1.000000e+00  "
      ]
     },
     "execution_count": 15,
     "metadata": {},
     "output_type": "execute_result"
    }
   ],
   "source": [
    "#variables\n",
    "df.describe().compute()"
   ]
  },
  {
   "cell_type": "code",
   "execution_count": 17,
   "metadata": {},
   "outputs": [
    {
     "name": "stdout",
     "output_type": "stream",
     "text": [
      "[########################################] | 100% Completed | 13.0s\n"
     ]
    },
    {
     "data": {
      "text/plain": [
       "count    6.362620e+06\n",
       "mean     1.798619e+05\n",
       "std      6.038582e+05\n",
       "min      0.000000e+00\n",
       "25%      1.722189e+04\n",
       "50%      8.029965e+04\n",
       "75%      2.210163e+05\n",
       "max      9.244552e+07\n",
       "dtype: float64"
      ]
     },
     "execution_count": 17,
     "metadata": {},
     "output_type": "execute_result"
    }
   ],
   "source": [
    "#cada una de las variables\n",
    "df.amount.describe().compute()"
   ]
  },
  {
   "cell_type": "code",
   "execution_count": 24,
   "metadata": {},
   "outputs": [
    {
     "data": {
      "text/plain": [
       "count        62.00000\n",
       "mean     138319.51871\n",
       "std      128692.17461\n",
       "min          85.90000\n",
       "10%       10981.53200\n",
       "32%       44955.69280\n",
       "50%      121330.38500\n",
       "max      551393.83000\n",
       "Name: amount, dtype: float64"
      ]
     },
     "execution_count": 24,
     "metadata": {},
     "output_type": "execute_result"
    }
   ],
   "source": [
    "#añado los porcentajes que me interesan en las estadísticas\n",
    "\n",
    "#Hecho con df1, conseguir hacerlo con df\n",
    "df1.amount.describe(percentiles=[.10, .32])"
   ]
  },
  {
   "cell_type": "code",
   "execution_count": 11,
   "metadata": {},
   "outputs": [
    {
     "name": "stdout",
     "output_type": "stream",
     "text": [
      "[########################################] | 100% Completed | 12.4s\n"
     ]
    },
    {
     "data": {
      "text/plain": [
       "array(['CASH_IN', 'CASH_OUT', 'DEBIT', 'PAYMENT', 'TRANSFER'], dtype=object)"
      ]
     },
     "execution_count": 11,
     "metadata": {},
     "output_type": "execute_result"
    }
   ],
   "source": [
    "# Función unique con dask\n",
    "import numpy as np\n",
    "np.unique(df[['type']])"
   ]
  },
  {
   "cell_type": "code",
   "execution_count": 10,
   "metadata": {},
   "outputs": [
    {
     "name": "stdout",
     "output_type": "stream",
     "text": [
      "[########################################] | 100% Completed | 13.2s\n"
     ]
    },
    {
     "data": {
      "text/plain": [
       "5"
      ]
     },
     "execution_count": 10,
     "metadata": {},
     "output_type": "execute_result"
    }
   ],
   "source": [
    "# Cuenta el numero de valores unicos que tiene la columna type funcion disctint count\n",
    "len(np.unique(df[['type']]))"
   ]
  },
  {
   "cell_type": "code",
   "execution_count": 4,
   "metadata": {
    "collapsed": true
   },
   "outputs": [],
   "source": [
    "df_sin_duplicados=df['type'].drop_duplicates()"
   ]
  },
  {
   "cell_type": "code",
   "execution_count": 5,
   "metadata": {},
   "outputs": [
    {
     "name": "stdout",
     "output_type": "stream",
     "text": [
      "[########################################] | 100% Completed | 13.8s\n"
     ]
    },
    {
     "data": {
      "text/plain": [
       "5"
      ]
     },
     "execution_count": 5,
     "metadata": {},
     "output_type": "execute_result"
    }
   ],
   "source": [
    "len(df_sin_duplicados)"
   ]
  },
  {
   "cell_type": "code",
   "execution_count": 8,
   "metadata": {},
   "outputs": [
    {
     "name": "stdout",
     "output_type": "stream",
     "text": [
      "[########################################] | 100% Completed | 13.7s\n"
     ]
    },
    {
     "data": {
      "text/plain": [
       "CASH_OUT    2237500\n",
       "PAYMENT     2151495\n",
       "CASH_IN     1399284\n",
       "TRANSFER     532909\n",
       "DEBIT         41432\n",
       "Name: type, dtype: int64"
      ]
     },
     "execution_count": 8,
     "metadata": {},
     "output_type": "execute_result"
    }
   ],
   "source": [
    "# Common values\n",
    "df.type.value_counts().compute()"
   ]
  },
  {
   "cell_type": "code",
   "execution_count": 15,
   "metadata": {},
   "outputs": [
    {
     "name": "stdout",
     "output_type": "stream",
     "text": [
      "[########################################] | 100% Completed | 13.9s\n",
      "[########################################] | 100% Completed | 13.7s\n",
      "[########################################] | 100% Completed | 13.6s\n"
     ]
    },
    {
     "data": {
      "text/plain": [
       "CASH_OUT    35.166331\n",
       "PAYMENT     33.814608\n",
       "CASH_IN     21.992261\n",
       "TRANSFER     8.375622\n",
       "DEBIT        0.651178\n",
       "Name: type, dtype: float64"
      ]
     },
     "execution_count": 15,
     "metadata": {},
     "output_type": "execute_result"
    }
   ],
   "source": [
    "#Sacamos el porcentaje de los valores anteriores\n",
    "total= len(df.type)\n",
    "serie=df.type.value_counts()\n",
    "for i in serie.iteritems():\n",
    "    resultado = serie*(100/total)\n",
    "resultado.compute()"
   ]
  },
  {
   "cell_type": "code",
   "execution_count": 16,
   "metadata": {},
   "outputs": [
    {
     "name": "stdout",
     "output_type": "stream",
     "text": [
      "[########################################] | 100% Completed | 14.3s\n"
     ]
    },
    {
     "data": {
      "text/plain": [
       "<matplotlib.axes._subplots.AxesSubplot at 0x7f83355fe320>"
      ]
     },
     "execution_count": 16,
     "metadata": {},
     "output_type": "execute_result"
    }
   ],
   "source": [
    "resultado.compute().plot.bar()"
   ]
  },
  {
   "cell_type": "code",
   "execution_count": 18,
   "metadata": {},
   "outputs": [
    {
     "name": "stdout",
     "output_type": "stream",
     "text": [
      "[########################################] | 100% Completed | 13.6s\n",
      "[########################################] | 100% Completed | 12.9s\n"
     ]
    },
    {
     "data": {
      "text/plain": [
       "<matplotlib.axes._subplots.AxesSubplot at 0x7f5b7b6c6828>"
      ]
     },
     "execution_count": 18,
     "metadata": {},
     "output_type": "execute_result"
    }
   ],
   "source": [
    "df.type.value_counts().compute().plot.bar();df.type.value_counts().compute().plot.line()\n"
   ]
  },
  {
   "cell_type": "code",
   "execution_count": 25,
   "metadata": {},
   "outputs": [
    {
     "name": "stdout",
     "output_type": "stream",
     "text": [
      "[########################################] | 100% Completed |  0.1s\n"
     ]
    },
    {
     "data": {
      "text/plain": [
       "(array(3.478207950761942), array(0.9946481094184582), 2.7378980939117406e+26)"
      ]
     },
     "execution_count": 25,
     "metadata": {},
     "output_type": "execute_result"
    }
   ],
   "source": [
    "# Funciones estadísticas con dask\n",
    "# Descriptive statistics: kurtosis, sesgo, momento\n",
    "\n",
    "#Hecho con df1, conseguir hacerlo con df\n",
    "import dask.array as da\n",
    "from dask.array import stats\n",
    "k, s, m =stats.kurtosis(df1.amount), stats.skew(df1.amount), stats.moment(df1.amount, 5) \n",
    "compute(k, s, m)\n",
    "#k, s, m = [stats.kurtosis(df), stats.skew(df), stats.moment(df, 5)]\n",
    "#dask.compute(k, s, m)"
   ]
  },
  {
   "cell_type": "code",
   "execution_count": 26,
   "metadata": {},
   "outputs": [
    {
     "data": {
      "text/plain": [
       "(dask.array<sum-aggregate, shape=(100,), dtype=int64, chunksize=(100,)>,\n",
       " array([  9.  ,   9.02,   9.04,   9.06,   9.08,   9.1 ,   9.12,   9.14,\n",
       "          9.16,   9.18,   9.2 ,   9.22,   9.24,   9.26,   9.28,   9.3 ,\n",
       "          9.32,   9.34,   9.36,   9.38,   9.4 ,   9.42,   9.44,   9.46,\n",
       "          9.48,   9.5 ,   9.52,   9.54,   9.56,   9.58,   9.6 ,   9.62,\n",
       "          9.64,   9.66,   9.68,   9.7 ,   9.72,   9.74,   9.76,   9.78,\n",
       "          9.8 ,   9.82,   9.84,   9.86,   9.88,   9.9 ,   9.92,   9.94,\n",
       "          9.96,   9.98,  10.  ,  10.02,  10.04,  10.06,  10.08,  10.1 ,\n",
       "         10.12,  10.14,  10.16,  10.18,  10.2 ,  10.22,  10.24,  10.26,\n",
       "         10.28,  10.3 ,  10.32,  10.34,  10.36,  10.38,  10.4 ,  10.42,\n",
       "         10.44,  10.46,  10.48,  10.5 ,  10.52,  10.54,  10.56,  10.58,\n",
       "         10.6 ,  10.62,  10.64,  10.66,  10.68,  10.7 ,  10.72,  10.74,\n",
       "         10.76,  10.78,  10.8 ,  10.82,  10.84,  10.86,  10.88,  10.9 ,\n",
       "         10.92,  10.94,  10.96,  10.98,  11.  ]))"
      ]
     },
     "execution_count": 26,
     "metadata": {},
     "output_type": "execute_result"
    }
   ],
   "source": [
    "#creaccion de un histograma con dask\n",
    "\n",
    "import dask.array as da\n",
    "da.histogram(df, bins=100, range=[9, 11])\n"
   ]
  },
  {
   "cell_type": "code",
   "execution_count": 30,
   "metadata": {},
   "outputs": [
    {
     "data": {
      "text/plain": [
       "array([[<matplotlib.axes._subplots.AxesSubplot object at 0x7fa68c24e5c0>,\n",
       "        <matplotlib.axes._subplots.AxesSubplot object at 0x7fa6976b5550>],\n",
       "       [<matplotlib.axes._subplots.AxesSubplot object at 0x7fa6d81253c8>,\n",
       "        <matplotlib.axes._subplots.AxesSubplot object at 0x7fa6972b2978>],\n",
       "       [<matplotlib.axes._subplots.AxesSubplot object at 0x7fa6baea8128>,\n",
       "        <matplotlib.axes._subplots.AxesSubplot object at 0x7fa6baea8160>]], dtype=object)"
      ]
     },
     "execution_count": 30,
     "metadata": {},
     "output_type": "execute_result"
    },
    {
     "data": {
      "image/png": "iVBORw0KGgoAAAANSUhEUgAAAXgAAAEjCAYAAAA41BqSAAAABHNCSVQICAgIfAhkiAAAAAlwSFlz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
      "text/plain": [
       "<matplotlib.figure.Figure at 0x7fa6b8f36278>"
      ]
     },
     "metadata": {},
     "output_type": "display_data"
    }
   ],
   "source": [
    "#Hecho con df1, conseguir hacerlo con df\n",
    "import matplotlib.pyplot as plt\n",
    "%matplotlib inline\n",
    "df1.hist(column=\"amount\",by=\"type\",bins=30)"
   ]
  },
  {
   "cell_type": "code",
   "execution_count": 25,
   "metadata": {},
   "outputs": [
    {
     "data": {
      "text/plain": [
       "<matplotlib.axes._subplots.AxesSubplot at 0x7f99ea2e9e80>"
      ]
     },
     "execution_count": 25,
     "metadata": {},
     "output_type": "execute_result"
    },
    {
     "data": {
      "image/png": "iVBORw0KGgoAAAANSUhEUgAAAZ4AAAEdCAYAAAA8WAF5AAAABHNCSVQICAgIfAhkiAAAAAlwSFlz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
      "text/plain": [
       "<matplotlib.figure.Figure at 0x7f99ea43c320>"
      ]
     },
     "metadata": {},
     "output_type": "display_data"
    }
   ],
   "source": [
    "# Grafica tipo boxplot\n",
    "df.boxplot(column=\"amount\",by=\"type\")"
   ]
  },
  {
   "cell_type": "code",
   "execution_count": 22,
   "metadata": {},
   "outputs": [
    {
     "name": "stdout",
     "output_type": "stream",
     "text": [
      "[                                        ] | 0% Completed |  0.0s\n",
      "Wall time: 3.64 ms\n",
      "[########################################] | 100% Completed | 13.8s\n"
     ]
    },
    {
     "data": {
      "text/html": [
       "<div>\n",
       "<style>\n",
       "    .dataframe thead tr:only-child th {\n",
       "        text-align: right;\n",
       "    }\n",
       "\n",
       "    .dataframe thead th {\n",
       "        text-align: left;\n",
       "    }\n",
       "\n",
       "    .dataframe tbody tr th {\n",
       "        vertical-align: top;\n",
       "    }\n",
       "</style>\n",
       "<table border=\"1\" class=\"dataframe\">\n",
       "  <thead>\n",
       "    <tr style=\"text-align: right;\">\n",
       "      <th></th>\n",
       "      <th>amount</th>\n",
       "      <th>newbalanceOrig</th>\n",
       "      <th>oldbalanceOrg</th>\n",
       "    </tr>\n",
       "  </thead>\n",
       "  <tbody>\n",
       "    <tr>\n",
       "      <th>amount</th>\n",
       "      <td>1.000000</td>\n",
       "      <td>-0.007861</td>\n",
       "      <td>-0.002762</td>\n",
       "    </tr>\n",
       "    <tr>\n",
       "      <th>newbalanceOrig</th>\n",
       "      <td>-0.007861</td>\n",
       "      <td>1.000000</td>\n",
       "      <td>0.998803</td>\n",
       "    </tr>\n",
       "    <tr>\n",
       "      <th>oldbalanceOrg</th>\n",
       "      <td>-0.002762</td>\n",
       "      <td>0.998803</td>\n",
       "      <td>1.000000</td>\n",
       "    </tr>\n",
       "  </tbody>\n",
       "</table>\n",
       "</div>"
      ],
      "text/plain": [
       "                  amount  newbalanceOrig  oldbalanceOrg\n",
       "amount          1.000000       -0.007861      -0.002762\n",
       "newbalanceOrig -0.007861        1.000000       0.998803\n",
       "oldbalanceOrg  -0.002762        0.998803       1.000000"
      ]
     },
     "execution_count": 22,
     "metadata": {},
     "output_type": "execute_result"
    }
   ],
   "source": [
    "# Sacamos la correlacion entre variables numéricas\n",
    "\n",
    "%time df_corr=df[['amount','newbalanceOrig', 'oldbalanceOrg']].corr()\n",
    "df_corr.compute()"
   ]
  },
  {
   "cell_type": "code",
   "execution_count": 23,
   "metadata": {},
   "outputs": [
    {
     "name": "stdout",
     "output_type": "stream",
     "text": [
      "[########################################] | 100% Completed | 13.4s\n"
     ]
    },
    {
     "data": {
      "image/png": "iVBORw0KGgoAAAANSUhEUgAAAWAAAAD3CAYAAAAjdY4DAAAABHNCSVQICAgIfAhkiAAAAAlwSFlz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
      "text/plain": [
       "<matplotlib.figure.Figure at 0x7f5bf95ce470>"
      ]
     },
     "metadata": {},
     "output_type": "display_data"
    }
   ],
   "source": [
    "# Para poder mostrar la grafica de las correlaciones hay que instalar en el environment seaborn.\n",
    "# Show correlations\n",
    "import seaborn as sns; sns.set()\n",
    "import matplotlib.pyplot as plt\n",
    "sns.heatmap(df_corr,cmap=\"YlGnBu\",vmin=-1, vmax=1)\n",
    "plt.savefig(\"dask-correlation.png\")\n",
    "plt.show()"
   ]
  },
  {
   "cell_type": "code",
   "execution_count": 31,
   "metadata": {},
   "outputs": [
    {
     "name": "stdout",
     "output_type": "stream",
     "text": [
      "[                                        ] | 0% Completed |  0.0sCPU times: user 4 µs, sys: 2 µs, total: 6 µs\n",
      "Wall time: 11 µs\n",
      "[########################################] | 100% Completed | 13.5s\n",
      "[########################################] | 100% Completed | 13.5s\n"
     ]
    },
    {
     "data": {
      "text/plain": [
       "69988820"
      ]
     },
     "execution_count": 31,
     "metadata": {},
     "output_type": "execute_result"
    }
   ],
   "source": [
    "#Prueba de uso de persist() para comprobar que las operaciones se realizan mas rápido\n",
    "%time\n",
    "df.size.compute()"
   ]
  },
  {
   "cell_type": "code",
   "execution_count": 32,
   "metadata": {},
   "outputs": [
    {
     "name": "stdout",
     "output_type": "stream",
     "text": [
      "[########################################] | 100% Completed | 13.2s\n",
      "[########################################] | 100% Completed | 13.3s\n"
     ]
    }
   ],
   "source": [
    "df = df.persist()"
   ]
  },
  {
   "cell_type": "code",
   "execution_count": 33,
   "metadata": {},
   "outputs": [
    {
     "name": "stdout",
     "output_type": "stream",
     "text": [
      "CPU times: user 2 µs, sys: 1 µs, total: 3 µs\n",
      "Wall time: 8.34 µs\n",
      "[########################################] | 100% Completed |  0.1s\n",
      "[########################################] | 100% Completed |  0.2s\n"
     ]
    },
    {
     "data": {
      "text/plain": [
       "69988820"
      ]
     },
     "execution_count": 33,
     "metadata": {},
     "output_type": "execute_result"
    }
   ],
   "source": [
    "%time\n",
    "df.size.compute()"
   ]
  },
  {
   "cell_type": "code",
   "execution_count": null,
   "metadata": {
    "collapsed": true
   },
   "outputs": [],
   "source": []
  }
 ],
 "metadata": {
  "kernelspec": {
   "display_name": "visualizacion_pyviz_intel",
   "language": "python",
   "name": "visualizacion_pyviz_intel"
  },
  "language_info": {
   "codemirror_mode": {
    "name": "ipython",
    "version": 3
   },
   "file_extension": ".py",
   "mimetype": "text/x-python",
   "name": "python",
   "nbconvert_exporter": "python",
   "pygments_lexer": "ipython3",
   "version": "3.6.3"
  }
 },
 "nbformat": 4,
 "nbformat_minor": 2
}
